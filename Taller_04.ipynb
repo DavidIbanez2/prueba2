{
  "nbformat": 4,
  "nbformat_minor": 0,
  "metadata": {
    "kernelspec": {
      "display_name": "Python 3",
      "language": "python",
      "name": "python3"
    },
    "language_info": {
      "codemirror_mode": {
        "name": "ipython",
        "version": 3
      },
      "file_extension": ".py",
      "mimetype": "text/x-python",
      "name": "python",
      "nbconvert_exporter": "python",
      "pygments_lexer": "ipython3",
      "version": "3.7.7"
    },
    "colab": {
      "name": "Taller_04.ipynb",
      "provenance": [],
      "collapsed_sections": []
    }
  },
  "cells": [
    {
      "cell_type": "markdown",
      "metadata": {
        "id": "Z5gIhFlFI5OT"
      },
      "source": [
        "<h1 align=\"center\">Taller # 04 - Instrucciones Repetitivas de Python</h1>"
      ]
    },
    {
      "cell_type": "markdown",
      "metadata": {
        "id": "46HA0ldXK8dc"
      },
      "source": [
        "## Ejercicio 00\r\n",
        "\r\n",
        "Realizar las siguientes operaciones con el operador `range` de Python"
      ]
    },
    {
      "cell_type": "code",
      "metadata": {
        "id": "_-YxU1v9LS9u"
      },
      "source": [
        "# Lista de números entre 0 y 20\r\n",
        "list(range(21))"
      ],
      "execution_count": null,
      "outputs": []
    },
    {
      "cell_type": "code",
      "metadata": {
        "id": "jbhzEPERLVwl"
      },
      "source": [
        "# Listar los números pares entre 10 y 40 (incluido el 40)\r\n",
        "list(range())"
      ],
      "execution_count": null,
      "outputs": []
    },
    {
      "cell_type": "code",
      "metadata": {
        "id": "72LQwvuXLeAK"
      },
      "source": [
        "# Generar la siguiente secuencia de números: 8, 20, 32, 44, 56, 68\r\n",
        "list(range())"
      ],
      "execution_count": null,
      "outputs": []
    },
    {
      "cell_type": "code",
      "metadata": {
        "id": "Dj-Bgdq_LiX6"
      },
      "source": [
        "# Usar el range para generar la siguiente secuencia de números: \r\n",
        "# 10, 3, -4, -11, -18, -25, -32, -39\r\n",
        "list(range())"
      ],
      "execution_count": null,
      "outputs": []
    },
    {
      "cell_type": "code",
      "metadata": {
        "id": "qEUqgjtVMumj"
      },
      "source": [
        "# Función que halla los primeros n términos de la progresión: 11, 16, 21, 26, 31,...\r\n",
        "def ejercicio1(n: int) -> [int]:\r\n",
        "  pass\r\n",
        "\r\n",
        "# prueba de la progresión\r\n",
        "assert ejercicio1(8) == [11, 16, 21, 26, 31, 36, 41, 46]\r\n",
        "print(\"Prueba superada!\")"
      ],
      "execution_count": null,
      "outputs": []
    },
    {
      "cell_type": "code",
      "metadata": {
        "id": "N1OblqA2OGqp"
      },
      "source": [
        "# Función que halla los primeros n términos de la progresión: 87, 76, 65,...\r\n",
        "def ejercicio2(n: int) -> [int]:\r\n",
        "  pass\r\n",
        "\r\n",
        "# Prueba \r\n",
        "assert ejercicio2(12) == [87, 76, 65, 54, 43, 32, 21, 10, -1, -12, -23, -34]\r\n",
        "print(\"Prueba superada!\")"
      ],
      "execution_count": null,
      "outputs": []
    },
    {
      "cell_type": "code",
      "metadata": {
        "id": "nXUV2szLOcFe"
      },
      "source": [
        "# Función que halla los primeros n términos de la progresión: 6, 13, 20, 27,...\r\n",
        "def ejercicio3(n: int) -> [int]:\r\n",
        "  pass\r\n",
        "\r\n",
        "assert ejercicio3(15) == [6, 13, 20, 27, 34, 41, 48, 55, 62, 69, 76, 83, 90, 97, 104]\r\n",
        "print(\"Prueba superada!\")"
      ],
      "execution_count": null,
      "outputs": []
    },
    {
      "cell_type": "markdown",
      "metadata": {
        "id": "B_4K_fGjI5OX"
      },
      "source": [
        "## Ejercicio 01\n",
        "\n",
        "Escriba un programa en Python que halle la sumatoria de los primeros $n$ números enteros positivos; el valor de $n$ debe ser solicitado al usuario y se desea que el programa visualice en cada iteración el número y la sumatoria parcial hasta ese momento.\n",
        "\n",
        "$$\n",
        "\\sum_{i=1}^{n} i = 1 + 2 + 3 + \\cdots + n\n",
        "$$"
      ]
    },
    {
      "cell_type": "code",
      "metadata": {
        "id": "mgfjTVveI5OZ"
      },
      "source": [
        "# Programa Principal\n"
      ],
      "execution_count": null,
      "outputs": []
    },
    {
      "cell_type": "markdown",
      "metadata": {
        "id": "ijBhW80MI5Oa"
      },
      "source": [
        "---"
      ]
    },
    {
      "cell_type": "markdown",
      "metadata": {
        "id": "qhLiFhyBI5Oc"
      },
      "source": [
        "## Ejercicio 02\n",
        "\n",
        "Elabore un programa que genere e imprima la tabla de multiplicar del 1 al 10 de un número entero positivo que es ingresado por pantalla. Use un **for** o un **while** para resolver el problema."
      ]
    },
    {
      "cell_type": "code",
      "metadata": {
        "id": "y_qwBNZkI5Of"
      },
      "source": [
        "# Programa principal\n",
        "\n"
      ],
      "execution_count": null,
      "outputs": []
    },
    {
      "cell_type": "markdown",
      "metadata": {
        "id": "sb-h-WTEI5Oh"
      },
      "source": [
        "---"
      ]
    },
    {
      "cell_type": "markdown",
      "metadata": {
        "id": "LGl40GN1I5Oi"
      },
      "source": [
        "## Ejercicio 03\n",
        "\n",
        "Escriba una **función** que reciba un número entero positivo y que encuentre y retorne el número de divisores que tiene ese número. Luego escriba el programa que lea un número e imprima la cantidad de divisores que tiene ese número."
      ]
    },
    {
      "cell_type": "code",
      "metadata": {
        "id": "8i9KTUPMI5Oj"
      },
      "source": [
        "# Definición de la función\n",
        "def cantidad_divisores(n: int) -> int:\n",
        "    ...\n",
        "    \n",
        "# Programa principal\n"
      ],
      "execution_count": null,
      "outputs": []
    },
    {
      "cell_type": "markdown",
      "metadata": {
        "id": "tf25FRqJI5Ok"
      },
      "source": [
        "---"
      ]
    },
    {
      "cell_type": "markdown",
      "metadata": {
        "id": "Oq4-Ia1vI5Ol"
      },
      "source": [
        "## Ejercicio 04\n",
        "\n",
        "Escriba una función, la cual, **USANDO LA FUNCIÓN ANTERIOR**, reciba un número entero y determine si ese número es primo o no. Un número es primo si y solo si, tiene 2 divisores. Luego escriba un programa que lea un número entero e imprima todos los números primos que hay entre 2 y el número entero que se ingresó desde el teclado. Debe usar la función desarrollada para saber si un número es primo."
      ]
    },
    {
      "cell_type": "code",
      "metadata": {
        "id": "l_ID05lfI5Om"
      },
      "source": [
        "# Definición de la función\n",
        "def es_primo(num: int) -> bool:\n",
        "    ...\n",
        "    \n",
        "# Programa principal\n"
      ],
      "execution_count": null,
      "outputs": []
    },
    {
      "cell_type": "markdown",
      "metadata": {
        "id": "gIAf4pYyI5On"
      },
      "source": [
        "---\n"
      ]
    },
    {
      "cell_type": "markdown",
      "metadata": {
        "id": "zWPXcaGzI5On"
      },
      "source": [
        "## Ejercicio 05\n",
        "\n",
        "Escriba una función que reciba un número entero positivo y que encuentre el factorial de un número. Luego escriba un programa que lea un número entero, y que halle e imprima los factoriales de todos los números enteros entre 1 y el número ingresado desde el teclado. Debe usar la función de factorial realizada."
      ]
    },
    {
      "cell_type": "code",
      "metadata": {
        "id": "kvcFWsi6I5Oo"
      },
      "source": [
        "# Definición de la función\n",
        "def hallar_factorial(n: int) -> int:\n",
        "    ...\n",
        "    \n",
        "# Programa principal\n"
      ],
      "execution_count": null,
      "outputs": []
    },
    {
      "cell_type": "markdown",
      "metadata": {
        "id": "SUde7SS6I5Op"
      },
      "source": [
        "---"
      ]
    },
    {
      "cell_type": "markdown",
      "metadata": {
        "id": "W3njGQAKI5Oq"
      },
      "source": [
        "## Ejercicio 06\n",
        "\n",
        "Escriba una función que reciba un número entero positivo, y que retorne la suma de los divisores de ese número que son inferiores al número. Es decir, la función debe sumar los divisores del número $n$, que se encuentran entre $1$ y $n-1$. Por ejemplo, los divisores de $18$ son $1, 2, 3, 6, 9, 18$. Pero la suma de los divisores inferiores no debe tener en cuenta el número, es decir, para el $18$, la suma de sus divisores inferiores sería $1 + 2 + 3 + 6 + 9 = 21$. Escriba un programa que, usando la función anterior, lea un número entero y obtenga la suma de los divisores infeiores de ese número."
      ]
    },
    {
      "cell_type": "code",
      "metadata": {
        "id": "SFJMONNxI5Or"
      },
      "source": [
        "# Definición de la función\n",
        "def hallar_suma_divisores(num: int) -> int:\n",
        "    ...\n",
        "    \n",
        "# Programa principal\n"
      ],
      "execution_count": null,
      "outputs": []
    },
    {
      "cell_type": "markdown",
      "metadata": {
        "id": "okqksG8zI5Os"
      },
      "source": [
        "---"
      ]
    },
    {
      "cell_type": "markdown",
      "metadata": {
        "id": "mXHYvbazI5Ot"
      },
      "source": [
        "## Ejercicio 07\n",
        "\n",
        "Un número entero positivo es perfecto si la suma de sus divisores inferiores es igual al número. Por ejemplo, el número $6$ es perfecto, ya que la suma de sus divisores inferiores, o sea, $1 + 2 + 3 = 6$ es igual al número $6$. Primero, escriba una función que reciba un número y que indique si ese número es perfecto o no. USE LA FUNCIÓN desarrollada en el ejercicio anterior. Luego escriba un programa que lea un número entero y que imprima los diversos números perfectos que hay entre 1 y el número ingresado desde el teclado. El programa también debe contar esa cantidad de números perfectos e imprimir esa cantidad al final del programa."
      ]
    },
    {
      "cell_type": "code",
      "metadata": {
        "id": "cIkCRaEjI5Ou"
      },
      "source": [
        "# Definición de la función\n",
        "def es_perfecto(n: int) -> bool:\n",
        "    ...\n",
        "    \n",
        "\n",
        "# Programa principal\n"
      ],
      "execution_count": null,
      "outputs": []
    },
    {
      "cell_type": "markdown",
      "metadata": {
        "id": "88djEiE1I5Ov"
      },
      "source": [
        "---"
      ]
    },
    {
      "cell_type": "markdown",
      "metadata": {
        "id": "puJ4EqxaI5Ov"
      },
      "source": [
        "## Ejercicio 08\n",
        "\n",
        "La Unidad de Estudios de Pensamiento Analítico cuenta con un total de $N$ estudiantes, y de cada estudiante se toman tres notas: El primer parcial (con un peso del 25% en la nota final), el segundo parcial (que también tiene un peso del 25% de la nota final) y el examen final (que tiene un peso del 50% de la nota final). La Facultad desea saber lo siguiente:\n",
        "\n",
        "* Nota final de cada estudiante\n",
        "* Total de estudiantes que ganaron\n",
        "* Total de estudiantes que perdieron\n",
        "* Total de estudiantes con nota final igual a 10.0 y total de estudiantes con nota final igual a 100.0\n",
        "* Promedio de notas de todos los estudiantes\n",
        "\n",
        "Escriba el programa que lea la cantidad de estudiantes $N$ y luego las notas de cada uno de los estudiantes y halle todos los datos solicitados por la facultad."
      ]
    },
    {
      "cell_type": "code",
      "metadata": {
        "id": "tf7oCIXII5Ow"
      },
      "source": [
        "# Programa principal\n"
      ],
      "execution_count": null,
      "outputs": []
    }
  ]
}